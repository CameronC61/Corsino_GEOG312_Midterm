{
  "nbformat": 4,
  "nbformat_minor": 0,
  "metadata": {
    "colab": {
      "provenance": []
    },
    "kernelspec": {
      "name": "python3",
      "display_name": "Python 3"
    },
    "language_info": {
      "name": "python"
    }
  },
  "cells": [
    {
      "cell_type": "markdown",
      "source": [
        "**Question 1.** Please write a python script that provides a printed output for the following\n",
        "arithmetic functions (you can use any numbers):\n",
        "Multiplication\n",
        "Division\n",
        "Addition\n",
        "Subtraction\n",
        "Modulo Operator"
      ],
      "metadata": {
        "id": "tChBjfgKuWj_"
      }
    },
    {
      "cell_type": "code",
      "source": [
        "print(5+5)\n",
        "print(10-5)\n",
        "print(5*2)\n",
        "print(10/2)\n",
        "print(10%3)"
      ],
      "metadata": {
        "colab": {
          "base_uri": "https://localhost:8080/"
        },
        "id": "6P1I80TVhHfT",
        "outputId": "a8a1fed1-b7b0-4e98-8dfa-a52339c15467"
      },
      "execution_count": 21,
      "outputs": [
        {
          "output_type": "stream",
          "name": "stdout",
          "text": [
            "10\n",
            "5\n",
            "10\n",
            "5.0\n",
            "1\n"
          ]
        }
      ]
    },
    {
      "cell_type": "markdown",
      "source": [
        "**Question 2.** Create an array with at least one of each data type. Create an array with only one\n",
        "data type. Compare the data types using a logical expression (equals, greater than or equal, not\n",
        "equal). Please have these values printed out."
      ],
      "metadata": {
        "id": "7pS4fHU-nJ9E"
      }
    },
    {
      "cell_type": "code",
      "source": [
        "array_1 = [1,5,10]\n",
        "array_2 =[3,8,12]\n",
        "less_than =(array_1) < (array_2)\n",
        "greater_than = (array_1) > (array_2)\n",
        "print(less_than)\n",
        "print(greater_than)"
      ],
      "metadata": {
        "colab": {
          "base_uri": "https://localhost:8080/"
        },
        "id": "oiV-g_3P32tB",
        "outputId": "e27c8a9f-9369-4288-a34a-092364f008a3"
      },
      "execution_count": 45,
      "outputs": [
        {
          "output_type": "stream",
          "name": "stdout",
          "text": [
            "True\n",
            "False\n"
          ]
        }
      ]
    },
    {
      "cell_type": "markdown",
      "source": [
        "**Question 3.** Create a list and use a for loop to print out each element of that list."
      ],
      "metadata": {
        "id": "FIGVeGo5nMAz"
      }
    },
    {
      "cell_type": "code",
      "source": [
        "soccer_teams = ['Liverpool','Real Madrid','Barcelona','PSG','Juventus']\n",
        "for team in soccer_teams:\n",
        "  print(team)"
      ],
      "metadata": {
        "colab": {
          "base_uri": "https://localhost:8080/"
        },
        "id": "Op5vk1NunPtz",
        "outputId": "a17352f1-d63f-4f15-f879-e49b2ea2d58e"
      },
      "execution_count": 20,
      "outputs": [
        {
          "output_type": "stream",
          "name": "stdout",
          "text": [
            "Liverpool\n",
            "Real Madrid\n",
            "Barcelona\n",
            "PSG\n",
            "Juventus\n"
          ]
        }
      ]
    },
    {
      "cell_type": "markdown",
      "source": [
        "**Question 4.** Create an array with numbers ranging from 1 to 100. Using a for loop, change the\n",
        "value of each even number in the total range of values to be equal to 0 within the array. Print out\n",
        "the final results as a table"
      ],
      "metadata": {
        "id": "Sy8a63NtuTWQ"
      }
    },
    {
      "cell_type": "code",
      "execution_count": 17,
      "metadata": {
        "colab": {
          "base_uri": "https://localhost:8080/"
        },
        "id": "9pAMwto8grvF",
        "outputId": "ea6dd556-7567-4a38-c7bc-ee8ea0caa94d"
      },
      "outputs": [
        {
          "output_type": "stream",
          "name": "stdout",
          "text": [
            "1\t1\n",
            "2\t0\n",
            "3\t3\n",
            "4\t0\n",
            "5\t5\n",
            "6\t0\n",
            "7\t7\n",
            "8\t0\n",
            "9\t9\n",
            "10\t0\n",
            "11\t11\n",
            "12\t0\n",
            "13\t13\n",
            "14\t0\n",
            "15\t15\n",
            "16\t0\n",
            "17\t17\n",
            "18\t0\n",
            "19\t19\n",
            "20\t0\n",
            "21\t21\n",
            "22\t0\n",
            "23\t23\n",
            "24\t0\n",
            "25\t25\n",
            "26\t0\n",
            "27\t27\n",
            "28\t0\n",
            "29\t29\n",
            "30\t0\n",
            "31\t31\n",
            "32\t0\n",
            "33\t33\n",
            "34\t0\n",
            "35\t35\n",
            "36\t0\n",
            "37\t37\n",
            "38\t0\n",
            "39\t39\n",
            "40\t0\n",
            "41\t41\n",
            "42\t0\n",
            "43\t43\n",
            "44\t0\n",
            "45\t45\n",
            "46\t0\n",
            "47\t47\n",
            "48\t0\n",
            "49\t49\n",
            "50\t0\n",
            "51\t51\n",
            "52\t0\n",
            "53\t53\n",
            "54\t0\n",
            "55\t55\n",
            "56\t0\n",
            "57\t57\n",
            "58\t0\n",
            "59\t59\n",
            "60\t0\n",
            "61\t61\n",
            "62\t0\n",
            "63\t63\n",
            "64\t0\n",
            "65\t65\n",
            "66\t0\n",
            "67\t67\n",
            "68\t0\n",
            "69\t69\n",
            "70\t0\n",
            "71\t71\n",
            "72\t0\n",
            "73\t73\n",
            "74\t0\n",
            "75\t75\n",
            "76\t0\n",
            "77\t77\n",
            "78\t0\n",
            "79\t79\n",
            "80\t0\n",
            "81\t81\n",
            "82\t0\n",
            "83\t83\n",
            "84\t0\n",
            "85\t85\n",
            "86\t0\n",
            "87\t87\n",
            "88\t0\n",
            "89\t89\n",
            "90\t0\n",
            "91\t91\n",
            "92\t0\n",
            "93\t93\n",
            "94\t0\n",
            "95\t95\n",
            "96\t0\n",
            "97\t97\n",
            "98\t0\n",
            "99\t99\n",
            "100\t0\n"
          ]
        }
      ],
      "source": [
        "numbers = list(range(1,101))\n",
        "for e in range(len(numbers)):\n",
        "  if numbers[e] % 2 == 0:\n",
        "    numbers[e] = 0\n",
        "  print(f\"{e + 1}\\t{numbers[e]}\")"
      ]
    },
    {
      "cell_type": "markdown",
      "source": [
        "**Question 5.** Create a function that will print out a conversation between two people. Your\n",
        "function should accept two inputs: 1. The name of person A, and the name of Person B. Write\n",
        "your function so that if the name of Person A is less than 5 characters, Person B will reply with\n",
        "the line: “Wow, your name is so short!” (print the message to the console).\n",
        "Example:\n",
        "Person A: “Hi my name is ____”\n",
        "Person B: “Hello, person A name, my name is ____”\n",
        "Person B: “Wow, your name is so short!”"
      ],
      "metadata": {
        "id": "NPsGPxr4ntp5"
      }
    },
    {
      "cell_type": "code",
      "source": [
        "def print_conversation(person_a,person_b):\n",
        "  if len(person_a) < 5:\n",
        "    print(f\"{person_b}: Wow, your name is so short!\")\n",
        "print(f\"{person_a}: Hi my name is Matt\")\n",
        "print(f\"{person_b}: Hello, Matt, my name is Scott.\")\n",
        "person_a = \"Matt\"\n",
        "person_b = \"Scott\"\n",
        "print_conversation(person_a,person_b)"
      ],
      "metadata": {
        "colab": {
          "base_uri": "https://localhost:8080/"
        },
        "id": "4E9feO37-EeD",
        "outputId": "9c10a079-f76a-42d0-8f4d-326ee300dd3a"
      },
      "execution_count": 47,
      "outputs": [
        {
          "output_type": "stream",
          "name": "stdout",
          "text": [
            "Matt: Hi my name is Matt\n",
            "Scott: Hello, Matt, my name is Scott.\n",
            "Scott: Wow, your name is so short!\n"
          ]
        }
      ]
    },
    {
      "cell_type": "markdown",
      "source": [
        "**Question 6.** Create two arrays that each have a random range of numbers from 1 to 50. Conduct\n",
        "the following arithmetic functions across the two arrays and print out the results:\n",
        "Multiplication\n",
        "Division\n",
        "Addition\n",
        "Subtraction\n",
        "Modulo Operator"
      ],
      "metadata": {
        "id": "lcu4gPG8n5jU"
      }
    },
    {
      "cell_type": "code",
      "source": [
        "array_1 = list(range(1,11))\n",
        "array_2 = list(range(40,50))\n",
        "print(\"Array 1:\", array_1)\n",
        "print(\"Array 2:\", array_2)\n",
        "multiply = [x * y for x, y in zip(array_1,array_2)]\n",
        "print(\"Multiplication\",multiply)\n",
        "add = [x + y for x, y in zip(array_1,array_2)]\n",
        "print(\"Addition\",add)\n",
        "subtract = [y - x for x, y in zip(array_1,array_2)]\n",
        "print(\"Subtraction\",subtract)\n",
        "divide = [y / x for x, y in zip(array_1,array_2)]\n",
        "print(\"Division\",divide)\n",
        "modulo = [x % y for x, y in zip(array_1,array_2)]\n",
        "print(\"Modulo Operator\",modulo)"
      ],
      "metadata": {
        "colab": {
          "base_uri": "https://localhost:8080/"
        },
        "id": "lQMd84FTxJiB",
        "outputId": "df56f620-4162-4c09-e479-8f7700de7fe6"
      },
      "execution_count": 41,
      "outputs": [
        {
          "output_type": "stream",
          "name": "stdout",
          "text": [
            "Array 1: [1, 2, 3, 4, 5, 6, 7, 8, 9, 10]\n",
            "Array 2: [40, 41, 42, 43, 44, 45, 46, 47, 48, 49]\n",
            "Multiplication [40, 82, 126, 172, 220, 270, 322, 376, 432, 490]\n",
            "Addition [41, 43, 45, 47, 49, 51, 53, 55, 57, 59]\n",
            "Subtraction [39, 39, 39, 39, 39, 39, 39, 39, 39, 39]\n",
            "Division [40.0, 20.5, 14.0, 10.75, 8.8, 7.5, 6.571428571428571, 5.875, 5.333333333333333, 4.9]\n",
            "Modulo Operator [1, 2, 3, 4, 5, 6, 7, 8, 9, 10]\n"
          ]
        }
      ]
    },
    {
      "cell_type": "markdown",
      "source": [
        "**Question 7.** Create a dictionary that has key, value pairs for different types of foods. Create a\n",
        "similar function to Question 5’s function that prints out the value of a key based on input from a\n",
        "user.\n",
        "Example:\n",
        "“Please type your favorite food: “\n",
        "User types: Pizza\n",
        "Code response: “Ah, Pizza, we have pepperoni.”\n",
        "Where pepperoni is the value of the key."
      ],
      "metadata": {
        "id": "RSPacnB6n7t6"
      }
    },
    {
      "cell_type": "code",
      "source": [
        "foods = {'pizza','chicken fingers','french fries'}\n",
        "prompt = \"\\nWhat would you like?\"\n",
        "prompt +=\"\\nEnter 'quit'\"\n",
        "while True:\n",
        "  menu = input(prompt)\n",
        "  if menu != 'quit':\n",
        "    print(f\" add {menu}\")\n",
        "  else:\n",
        "    break"
      ],
      "metadata": {
        "colab": {
          "base_uri": "https://localhost:8080/"
        },
        "id": "mRnitHnyDVfC",
        "outputId": "2e92e551-22d9-4045-cc63-57038d41e29d"
      },
      "execution_count": 58,
      "outputs": [
        {
          "name": "stdout",
          "output_type": "stream",
          "text": [
            "\n",
            "What would you like?\n",
            "Enter 'quit'pizza\n",
            " add pizza\n",
            "\n",
            "What would you like?\n",
            "Enter 'quit'chicken fingers\n",
            " add chicken fingers\n",
            "\n",
            "What would you like?\n",
            "Enter 'quit'quit\n"
          ]
        }
      ]
    },
    {
      "cell_type": "markdown",
      "source": [
        "**Question 8.** Create a while loop that will continuously print a message until a specified value is\n",
        "reached."
      ],
      "metadata": {
        "id": "L0E6FbcMoBlI"
      }
    },
    {
      "cell_type": "code",
      "source": [
        "value = 5\n",
        "current_value = 0\n",
        "while current_value < value:\n",
        "  print(\"I love geography.\")\n",
        "  current_value += 1\n",
        "print('value reached.')"
      ],
      "metadata": {
        "colab": {
          "base_uri": "https://localhost:8080/"
        },
        "id": "NIHQiiW_oIZm",
        "outputId": "15f3c9dd-aa3a-41d0-f406-2ccee8eef529"
      },
      "execution_count": null,
      "outputs": [
        {
          "output_type": "stream",
          "name": "stdout",
          "text": [
            "I love geography.\n",
            "I love geography.\n",
            "I love geography.\n",
            "I love geography.\n",
            "I love geography.\n",
            "value reached.\n"
          ]
        }
      ]
    },
    {
      "cell_type": "markdown",
      "source": [
        "**Question 8b.** Create a while loop that runs a calculation on an array of numbers until the last\n",
        "value within the array has been run.\n",
        "The array can contain any numerical values, and the calculation can be something as simple as\n",
        "multiplying the values by pi or something more complex."
      ],
      "metadata": {
        "id": "weV70vmYoI5F"
      }
    },
    {
      "cell_type": "code",
      "source": [
        "numbers = [1,2,3,4,5,6,7,8,9,10]\n",
        "index = 0\n",
        "while index < len(numbers):\n",
        "  current_number = numbers[index]\n",
        "  answer = current_number * 2\n",
        "  print(f'{current_number}:{answer}')\n",
        "  index +=1"
      ],
      "metadata": {
        "colab": {
          "base_uri": "https://localhost:8080/"
        },
        "id": "2ICqalr_oNkS",
        "outputId": "6f082194-267c-4d2e-c7a9-99447b854209"
      },
      "execution_count": null,
      "outputs": [
        {
          "output_type": "stream",
          "name": "stdout",
          "text": [
            "1:2\n",
            "2:4\n",
            "3:6\n",
            "4:8\n",
            "5:10\n",
            "6:12\n",
            "7:14\n",
            "8:16\n",
            "9:18\n",
            "10:20\n"
          ]
        }
      ]
    },
    {
      "cell_type": "markdown",
      "source": [
        "**Question 9.** Please explain the difference between a list, an array, and a dictionary and when you\n",
        "would use each one. (Type your answer as a comment or within a text cell)."
      ],
      "metadata": {
        "id": "kgMwUuOxoR7u"
      }
    },
    {
      "cell_type": "markdown",
      "source": [
        "A list is a collection of items in a particular order and can be words or numbers. Lists have countless uses and are very flexible. A good time to use a list would be when you are listing favorites, such as your favorite foods or musical artists.\n",
        "\n",
        "A dictionary is a collection of key value pairs. Keys are connected to values and you access specific values through keys. Values can be numbers, strings, lists, or other dictionaries. Dictionaries use braces'{}' while lists use brackets'[]'. A good use of dictionaries is in game development. For example, connecting different point values and colors to defeating different aliens such as a green alien is worth 5 points and a purple alien is worth 10 points.\n",
        "\n",
        "Arrays are not as flexible as lists and only contain one data type whereas lists contain various data types. Arrays are good to use when working with numbers."
      ],
      "metadata": {
        "id": "0G7f_9lQoT9I"
      }
    },
    {
      "cell_type": "markdown",
      "source": [
        "**Question 10.** Please explain the difference between logical operators and comparison operators\n",
        "and describe one use case for when they would be used (do not use the description from the\n",
        "lecture/lab materials - think through it):\n",
        "\n",
        "If\n",
        "Elif\n",
        "Else\n",
        "\n",
        "==\n",
        "!=\n",
        "& (and)\n",
        "| (or)\n"
      ],
      "metadata": {
        "id": "xF4eQ9IOoVsW"
      }
    },
    {
      "cell_type": "markdown",
      "source": [
        "Comparison operators compare two values, while logical operators can account for multiple outcomes. An example of a time to use logical operators would be to determine ticket prices for a football game. You could use the if function to execute a certain price for people aged 65 or older, children 13 or younger, a student ticket, and finally the else function would execute the standard adult ticket.\n",
        "Comparison operators are good to use with numbers, you can use these operators such as the greater than, less than, equal to functions to compare two values and get the result."
      ],
      "metadata": {
        "id": "OWV5xvSLoaEh"
      }
    }
  ]
}